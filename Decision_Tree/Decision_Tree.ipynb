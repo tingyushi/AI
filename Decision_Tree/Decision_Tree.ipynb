{
 "cells": [
  {
   "cell_type": "markdown",
   "metadata": {
    "id": "sKXtP-2o7xEV"
   },
   "source": [
    "# Decision Trees\n",
    "\n",
    "Using dataset about [heart failure](https://www.kaggle.com/datasets/fedesoriano/heart-failure-prediction?resource=download)\n",
    "\n",
    "## Dataset characterics\n",
    "918 Observations and 11 attributes\n",
    "\n",
    "* Age\n",
    "* Sex\n",
    "* ChestPainType\n",
    "* RestingBP\n",
    "* Cholesterol\n",
    "* FastingBS\n",
    "* RestECG\n",
    "* MaxHR\n",
    "* ExerciseAngina\n",
    "* Oldpeak\n",
    "* ST_Slope"
   ]
  },
  {
   "cell_type": "markdown",
   "metadata": {
    "id": "Ez5X31NJ8LDP"
   },
   "source": [
    "# Import packages"
   ]
  },
  {
   "cell_type": "code",
   "execution_count": 16,
   "metadata": {
    "id": "edwfNiMO7tRY"
   },
   "outputs": [],
   "source": [
    "import pandas as pd\n",
    "import numpy as np\n",
    "import seaborn as sns\n",
    "import math\n",
    "\n",
    "from sklearn.tree import DecisionTreeClassifier\n",
    "from sklearn.ensemble import RandomForestClassifier\n",
    "from sklearn.model_selection import train_test_split\n",
    "\n",
    "from xgboost import XGBClassifier\n",
    "import matplotlib.pyplot as plt"
   ]
  },
  {
   "cell_type": "markdown",
   "metadata": {
    "id": "Sjahzr6192_h"
   },
   "source": [
    "# Import dataset"
   ]
  },
  {
   "cell_type": "code",
   "execution_count": 17,
   "metadata": {
    "colab": {
     "base_uri": "https://localhost:8080/"
    },
    "id": "k42hb5QA97Kb",
    "outputId": "0bf2575d-04e7-49d2-9de3-9bcf723ff060"
   },
   "outputs": [
    {
     "name": "stdout",
     "output_type": "stream",
     "text": [
      "<class 'pandas.core.frame.DataFrame'>\n",
      "RangeIndex: 918 entries, 0 to 917\n",
      "Data columns (total 12 columns):\n",
      " #   Column          Non-Null Count  Dtype  \n",
      "---  ------          --------------  -----  \n",
      " 0   Age             918 non-null    int64  \n",
      " 1   Sex             918 non-null    object \n",
      " 2   ChestPainType   918 non-null    object \n",
      " 3   RestingBP       918 non-null    int64  \n",
      " 4   Cholesterol     918 non-null    int64  \n",
      " 5   FastingBS       918 non-null    int64  \n",
      " 6   RestingECG      918 non-null    object \n",
      " 7   MaxHR           918 non-null    int64  \n",
      " 8   ExerciseAngina  918 non-null    object \n",
      " 9   Oldpeak         918 non-null    float64\n",
      " 10  ST_Slope        918 non-null    object \n",
      " 11  HeartDisease    918 non-null    int64  \n",
      "dtypes: float64(1), int64(6), object(5)\n",
      "memory usage: 86.2+ KB\n"
     ]
    }
   ],
   "source": [
    "df = pd.read_csv('heart.csv')\n",
    "df.info()"
   ]
  },
  {
   "cell_type": "code",
   "execution_count": 18,
   "metadata": {
    "colab": {
     "base_uri": "https://localhost:8080/",
     "height": 206
    },
    "id": "rnQk1lBwAGBi",
    "outputId": "a183bdf8-2005-4367-e366-d19a16b7d99b"
   },
   "outputs": [
    {
     "data": {
      "text/html": [
       "<div>\n",
       "<style scoped>\n",
       "    .dataframe tbody tr th:only-of-type {\n",
       "        vertical-align: middle;\n",
       "    }\n",
       "\n",
       "    .dataframe tbody tr th {\n",
       "        vertical-align: top;\n",
       "    }\n",
       "\n",
       "    .dataframe thead th {\n",
       "        text-align: right;\n",
       "    }\n",
       "</style>\n",
       "<table border=\"1\" class=\"dataframe\">\n",
       "  <thead>\n",
       "    <tr style=\"text-align: right;\">\n",
       "      <th></th>\n",
       "      <th>Age</th>\n",
       "      <th>Sex</th>\n",
       "      <th>ChestPainType</th>\n",
       "      <th>RestingBP</th>\n",
       "      <th>Cholesterol</th>\n",
       "      <th>FastingBS</th>\n",
       "      <th>RestingECG</th>\n",
       "      <th>MaxHR</th>\n",
       "      <th>ExerciseAngina</th>\n",
       "      <th>Oldpeak</th>\n",
       "      <th>ST_Slope</th>\n",
       "      <th>HeartDisease</th>\n",
       "    </tr>\n",
       "  </thead>\n",
       "  <tbody>\n",
       "    <tr>\n",
       "      <th>0</th>\n",
       "      <td>40</td>\n",
       "      <td>M</td>\n",
       "      <td>ATA</td>\n",
       "      <td>140</td>\n",
       "      <td>289</td>\n",
       "      <td>0</td>\n",
       "      <td>Normal</td>\n",
       "      <td>172</td>\n",
       "      <td>N</td>\n",
       "      <td>0.0</td>\n",
       "      <td>Up</td>\n",
       "      <td>0</td>\n",
       "    </tr>\n",
       "    <tr>\n",
       "      <th>1</th>\n",
       "      <td>49</td>\n",
       "      <td>F</td>\n",
       "      <td>NAP</td>\n",
       "      <td>160</td>\n",
       "      <td>180</td>\n",
       "      <td>0</td>\n",
       "      <td>Normal</td>\n",
       "      <td>156</td>\n",
       "      <td>N</td>\n",
       "      <td>1.0</td>\n",
       "      <td>Flat</td>\n",
       "      <td>1</td>\n",
       "    </tr>\n",
       "    <tr>\n",
       "      <th>2</th>\n",
       "      <td>37</td>\n",
       "      <td>M</td>\n",
       "      <td>ATA</td>\n",
       "      <td>130</td>\n",
       "      <td>283</td>\n",
       "      <td>0</td>\n",
       "      <td>ST</td>\n",
       "      <td>98</td>\n",
       "      <td>N</td>\n",
       "      <td>0.0</td>\n",
       "      <td>Up</td>\n",
       "      <td>0</td>\n",
       "    </tr>\n",
       "    <tr>\n",
       "      <th>3</th>\n",
       "      <td>48</td>\n",
       "      <td>F</td>\n",
       "      <td>ASY</td>\n",
       "      <td>138</td>\n",
       "      <td>214</td>\n",
       "      <td>0</td>\n",
       "      <td>Normal</td>\n",
       "      <td>108</td>\n",
       "      <td>Y</td>\n",
       "      <td>1.5</td>\n",
       "      <td>Flat</td>\n",
       "      <td>1</td>\n",
       "    </tr>\n",
       "    <tr>\n",
       "      <th>4</th>\n",
       "      <td>54</td>\n",
       "      <td>M</td>\n",
       "      <td>NAP</td>\n",
       "      <td>150</td>\n",
       "      <td>195</td>\n",
       "      <td>0</td>\n",
       "      <td>Normal</td>\n",
       "      <td>122</td>\n",
       "      <td>N</td>\n",
       "      <td>0.0</td>\n",
       "      <td>Up</td>\n",
       "      <td>0</td>\n",
       "    </tr>\n",
       "  </tbody>\n",
       "</table>\n",
       "</div>"
      ],
      "text/plain": [
       "   Age Sex ChestPainType  RestingBP  Cholesterol  FastingBS RestingECG  MaxHR  \\\n",
       "0   40   M           ATA        140          289          0     Normal    172   \n",
       "1   49   F           NAP        160          180          0     Normal    156   \n",
       "2   37   M           ATA        130          283          0         ST     98   \n",
       "3   48   F           ASY        138          214          0     Normal    108   \n",
       "4   54   M           NAP        150          195          0     Normal    122   \n",
       "\n",
       "  ExerciseAngina  Oldpeak ST_Slope  HeartDisease  \n",
       "0              N      0.0       Up             0  \n",
       "1              N      1.0     Flat             1  \n",
       "2              N      0.0       Up             0  \n",
       "3              Y      1.5     Flat             1  \n",
       "4              N      0.0       Up             0  "
      ]
     },
     "execution_count": 18,
     "metadata": {},
     "output_type": "execute_result"
    }
   ],
   "source": [
    "df.head()"
   ]
  },
  {
   "cell_type": "code",
   "execution_count": 19,
   "metadata": {
    "colab": {
     "base_uri": "https://localhost:8080/",
     "height": 269
    },
    "id": "hXvbgdX__Dn_",
    "outputId": "2b72c3ab-0ccf-4135-f26a-b957c9f5fc28"
   },
   "outputs": [
    {
     "data": {
      "text/html": [
       "<div>\n",
       "<style scoped>\n",
       "    .dataframe tbody tr th:only-of-type {\n",
       "        vertical-align: middle;\n",
       "    }\n",
       "\n",
       "    .dataframe tbody tr th {\n",
       "        vertical-align: top;\n",
       "    }\n",
       "\n",
       "    .dataframe thead th {\n",
       "        text-align: right;\n",
       "    }\n",
       "</style>\n",
       "<table border=\"1\" class=\"dataframe\">\n",
       "  <thead>\n",
       "    <tr style=\"text-align: right;\">\n",
       "      <th></th>\n",
       "      <th>count</th>\n",
       "      <th>mean</th>\n",
       "      <th>std</th>\n",
       "      <th>min</th>\n",
       "      <th>25%</th>\n",
       "      <th>50%</th>\n",
       "      <th>75%</th>\n",
       "      <th>max</th>\n",
       "    </tr>\n",
       "  </thead>\n",
       "  <tbody>\n",
       "    <tr>\n",
       "      <th>Age</th>\n",
       "      <td>918.0</td>\n",
       "      <td>53.510893</td>\n",
       "      <td>9.432617</td>\n",
       "      <td>28.0</td>\n",
       "      <td>47.00</td>\n",
       "      <td>54.0</td>\n",
       "      <td>60.0</td>\n",
       "      <td>77.0</td>\n",
       "    </tr>\n",
       "    <tr>\n",
       "      <th>RestingBP</th>\n",
       "      <td>918.0</td>\n",
       "      <td>132.396514</td>\n",
       "      <td>18.514154</td>\n",
       "      <td>0.0</td>\n",
       "      <td>120.00</td>\n",
       "      <td>130.0</td>\n",
       "      <td>140.0</td>\n",
       "      <td>200.0</td>\n",
       "    </tr>\n",
       "    <tr>\n",
       "      <th>Cholesterol</th>\n",
       "      <td>918.0</td>\n",
       "      <td>198.799564</td>\n",
       "      <td>109.384145</td>\n",
       "      <td>0.0</td>\n",
       "      <td>173.25</td>\n",
       "      <td>223.0</td>\n",
       "      <td>267.0</td>\n",
       "      <td>603.0</td>\n",
       "    </tr>\n",
       "    <tr>\n",
       "      <th>FastingBS</th>\n",
       "      <td>918.0</td>\n",
       "      <td>0.233115</td>\n",
       "      <td>0.423046</td>\n",
       "      <td>0.0</td>\n",
       "      <td>0.00</td>\n",
       "      <td>0.0</td>\n",
       "      <td>0.0</td>\n",
       "      <td>1.0</td>\n",
       "    </tr>\n",
       "    <tr>\n",
       "      <th>MaxHR</th>\n",
       "      <td>918.0</td>\n",
       "      <td>136.809368</td>\n",
       "      <td>25.460334</td>\n",
       "      <td>60.0</td>\n",
       "      <td>120.00</td>\n",
       "      <td>138.0</td>\n",
       "      <td>156.0</td>\n",
       "      <td>202.0</td>\n",
       "    </tr>\n",
       "    <tr>\n",
       "      <th>Oldpeak</th>\n",
       "      <td>918.0</td>\n",
       "      <td>0.887364</td>\n",
       "      <td>1.066570</td>\n",
       "      <td>-2.6</td>\n",
       "      <td>0.00</td>\n",
       "      <td>0.6</td>\n",
       "      <td>1.5</td>\n",
       "      <td>6.2</td>\n",
       "    </tr>\n",
       "    <tr>\n",
       "      <th>HeartDisease</th>\n",
       "      <td>918.0</td>\n",
       "      <td>0.553377</td>\n",
       "      <td>0.497414</td>\n",
       "      <td>0.0</td>\n",
       "      <td>0.00</td>\n",
       "      <td>1.0</td>\n",
       "      <td>1.0</td>\n",
       "      <td>1.0</td>\n",
       "    </tr>\n",
       "  </tbody>\n",
       "</table>\n",
       "</div>"
      ],
      "text/plain": [
       "              count        mean         std   min     25%    50%    75%    max\n",
       "Age           918.0   53.510893    9.432617  28.0   47.00   54.0   60.0   77.0\n",
       "RestingBP     918.0  132.396514   18.514154   0.0  120.00  130.0  140.0  200.0\n",
       "Cholesterol   918.0  198.799564  109.384145   0.0  173.25  223.0  267.0  603.0\n",
       "FastingBS     918.0    0.233115    0.423046   0.0    0.00    0.0    0.0    1.0\n",
       "MaxHR         918.0  136.809368   25.460334  60.0  120.00  138.0  156.0  202.0\n",
       "Oldpeak       918.0    0.887364    1.066570  -2.6    0.00    0.6    1.5    6.2\n",
       "HeartDisease  918.0    0.553377    0.497414   0.0    0.00    1.0    1.0    1.0"
      ]
     },
     "execution_count": 19,
     "metadata": {},
     "output_type": "execute_result"
    }
   ],
   "source": [
    "df.describe().transpose()"
   ]
  },
  {
   "cell_type": "code",
   "execution_count": 20,
   "metadata": {
    "colab": {
     "base_uri": "https://localhost:8080/",
     "height": 467
    },
    "id": "t2nfiR4h_HK5",
    "outputId": "ede22b5f-8c63-4757-c6bf-75547d4283f6"
   },
   "outputs": [
    {
     "data": {
      "text/plain": [
       "<Axes: xlabel='HeartDisease', ylabel='count'>"
      ]
     },
     "execution_count": 20,
     "metadata": {},
     "output_type": "execute_result"
    },
    {
     "data": {
      "image/png": "[encoded data removed]",
      "text/plain": [
       "<Figure size 640x480 with 1 Axes>"
      ]
     },
     "metadata": {},
     "output_type": "display_data"
    }
   ],
   "source": [
    "sns.countplot(x='HeartDisease',data=df)"
   ]
  },
  {
   "cell_type": "markdown",
   "metadata": {
    "id": "5FXQRQuc_ycC"
   },
   "source": [
    "# Pre-processing data (Using one-hot encoding for some discrete fearure)\n",
    "using pd.get_dummies()"
   ]
  },
  {
   "cell_type": "code",
   "execution_count": 21,
   "metadata": {
    "colab": {
     "base_uri": "https://localhost:8080/"
    },
    "id": "LaDuLguK_c4k",
    "outputId": "8475efe2-a31d-478b-b73d-118a68e574a3"
   },
   "outputs": [
    {
     "name": "stdout",
     "output_type": "stream",
     "text": [
      "(550, 20)\n",
      "(550,)\n",
      "(184, 20)\n",
      "(184,)\n",
      "(184, 20)\n",
      "(184,)\n"
     ]
    }
   ],
   "source": [
    "y = df['HeartDisease'].values\n",
    "Xdf = df.drop(columns = ['HeartDisease'])\n",
    "discrete_features = ['Sex', 'ChestPainType', 'RestingECG',\n",
    "                     'ExerciseAngina', 'ST_Slope']\n",
    "Xdf = pd.get_dummies(data = Xdf, prefix = discrete_features,\n",
    "                    columns = discrete_features)\n",
    "Xdf.head()\n",
    "X = Xdf.values\n",
    "\n",
    "X_train, X_test, y_train, y_test = train_test_split(X, y, test_size = 0.4, random_state=42)\n",
    "X_test, X_cv, y_test, y_cv = train_test_split(X_test, y_test, test_size = 0.5, random_state=42)\n",
    "print(X_train.shape) ; print(y_train.shape)\n",
    "print(X_cv.shape) ; print(y_cv.shape)\n",
    "print(X_test.shape) ; print(y_test.shape)"
   ]
  },
  {
   "cell_type": "markdown",
   "metadata": {
    "id": "fFOvGVyjNM0I"
   },
   "source": [
    "# Calculate Accuracy"
   ]
  },
  {
   "cell_type": "code",
   "execution_count": 22,
   "metadata": {
    "id": "YwPpLg1JNRxD"
   },
   "outputs": [],
   "source": [
    "def getAccuracy(yhat, y):\n",
    "    sampleSize = y.shape[0]\n",
    "    correct = 0\n",
    "    for i in range(sampleSize):\n",
    "        if (y[i] == yhat[i]):\n",
    "            correct += 1\n",
    "    return correct / sampleSize"
   ]
  },
  {
   "cell_type": "markdown",
   "metadata": {
    "id": "gRotXy75Fskz"
   },
   "source": [
    "# Decision Tree\n",
    "* [API](https://scikit-learn.org/stable/modules/generated/sklearn.tree.DecisionTreeClassifier.html)"
   ]
  },
  {
   "cell_type": "markdown",
   "metadata": {
    "id": "D77ATor1Iwju"
   },
   "source": [
    "## min_sample_split\n",
    "The minimum number of samples required to split an internal node. Test what is the best option.\n",
    "* If int, then consider min_samples_split as the minimum number.\n",
    "* If float, then min_samples_split is a fraction and ceil(min_samples_split * n_samples) are the minimum number of samples for each split."
   ]
  },
  {
   "cell_type": "code",
   "execution_count": 23,
   "metadata": {
    "colab": {
     "base_uri": "https://localhost:8080/"
    },
    "id": "rtlTp-o8BTCv",
    "outputId": "6054522d-4f0b-4fc9-8721-fa9cace821d7"
   },
   "outputs": [
    {
     "name": "stdout",
     "output_type": "stream",
     "text": [
      "200\n"
     ]
    },
    {
     "data": {
      "image/png": "[encoded data removed]",
      "text/plain": [
       "<Figure size 800x500 with 1 Axes>"
      ]
     },
     "metadata": {},
     "output_type": "display_data"
    }
   ],
   "source": [
    "possible_values = [2, 10, 30, 50, 100, 200, 300, 700]\n",
    "RS = 42\n",
    "\n",
    "trainAccuracy_list = []\n",
    "cvAccuracy_list = []\n",
    "\n",
    "for value in possible_values:\n",
    "    model = DecisionTreeClassifier(min_samples_split = value, random_state = RS)\n",
    "    model.fit(X_train, y_train)\n",
    "    yhat_train = model.predict(X_train)\n",
    "    yhat_cv = model.predict(X_cv)\n",
    "    trainAccuracy = getAccuracy(yhat_train, y_train)\n",
    "    cvAccuracy = getAccuracy(yhat_cv, y_cv)\n",
    "    trainAccuracy_list.append(trainAccuracy)\n",
    "    cvAccuracy_list.append(cvAccuracy)\n",
    "\n",
    "plt.plot(possible_values, trainAccuracy_list, linewidth = 1, label = \"Train Accuracy\")\n",
    "plt.plot(possible_values, cvAccuracy_list, linewidth = 1, label = \"CV Accuracy\")\n",
    "plt.legend()\n",
    "plt.xlabel(\"Minimum Sample Split\")\n",
    "plt.ylabel(\"Accuracy\")\n",
    "plt.gcf().set_size_inches(8, 5)\n",
    "plt.title(\"Accuracy VS. Min Sample Split\")\n",
    "temp = cvAccuracy_list.index(max(cvAccuracy_list))\n",
    "best_min_sample_split = possible_values[temp]\n",
    "print(best_min_sample_split)"
   ]
  },
  {
   "cell_type": "markdown",
   "metadata": {
    "id": "wzJM6zY65lr2"
   },
   "source": [
    "## Maximum Depth"
   ]
  },
  {
   "cell_type": "code",
   "execution_count": 24,
   "metadata": {
    "colab": {
     "base_uri": "https://localhost:8080/",
     "height": 505
    },
    "id": "9lNl4v4T5y5I",
    "outputId": "3bf1ee08-9707-4588-82c8-cd354cca24b0"
   },
   "outputs": [
    {
     "name": "stdout",
     "output_type": "stream",
     "text": [
      "3\n"
     ]
    },
    {
     "data": {
      "image/png": "[encoded data removed]",
      "text/plain": [
       "<Figure size 800x500 with 1 Axes>"
      ]
     },
     "metadata": {},
     "output_type": "display_data"
    }
   ],
   "source": [
    "possible_values = [1,2, 3, 4, 8, 16, 32, 64, None]\n",
    "RS = 42\n",
    "\n",
    "trainAccuracy_list = []\n",
    "cvAccuracy_list = []\n",
    "\n",
    "for value in possible_values:\n",
    "    model = DecisionTreeClassifier(max_depth = value, random_state = RS)\n",
    "    model.fit(X_train, y_train)\n",
    "    yhat_train = model.predict(X_train)\n",
    "    yhat_cv = model.predict(X_cv)\n",
    "    trainAccuracy = getAccuracy(yhat_train, y_train)\n",
    "    cvAccuracy = getAccuracy(yhat_cv, y_cv)\n",
    "    trainAccuracy_list.append(trainAccuracy)\n",
    "    cvAccuracy_list.append(cvAccuracy)\n",
    "\n",
    "plt.plot(possible_values, trainAccuracy_list, linewidth = 1, label = \"Train Accuracy\")\n",
    "plt.plot(possible_values, cvAccuracy_list, linewidth = 1, label = \"CV Accuracy\")\n",
    "plt.legend()\n",
    "plt.xlabel(\"Maximum Depth\")\n",
    "plt.ylabel(\"Accuracy\")\n",
    "plt.gcf().set_size_inches(8, 5)\n",
    "plt.title(\"Accuracy VS. Maximum Depth\")\n",
    "temp = cvAccuracy_list.index(max(cvAccuracy_list))\n",
    "best_max_depth = possible_values[temp]\n",
    "print(best_max_depth)"
   ]
  },
  {
   "cell_type": "code",
   "execution_count": 25,
   "metadata": {
    "colab": {
     "base_uri": "https://localhost:8080/"
    },
    "id": "8zi14n4u6iCd",
    "outputId": "c647bf57-e551-4cc8-dd5a-66b836737eae"
   },
   "outputs": [
    {
     "name": "stdout",
     "output_type": "stream",
     "text": [
      "Testing set Accuracy: 0.8097826086956522\n"
     ]
    }
   ],
   "source": [
    "model = DecisionTreeClassifier(min_samples_split = best_min_sample_split,\n",
    "                               max_depth = best_max_depth,\n",
    "                               random_state = RS)\n",
    "model.fit(X_train, y_train)\n",
    "yhat = model.predict(X_test)\n",
    "print(f\"Testing set Accuracy: {getAccuracy(yhat, y_test)}\")"
   ]
  },
  {
   "cell_type": "markdown",
   "metadata": {
    "id": "iNHPWHNB8yrU"
   },
   "source": [
    "# Random Forest\n",
    "* [API](https://scikit-learn.org/stable/modules/generated/sklearn.ensemble.RandomForestClassifier.html#sklearn.ensemble.RandomForestClassifier)\n"
   ]
  },
  {
   "cell_type": "code",
   "execution_count": 26,
   "metadata": {
    "colab": {
     "base_uri": "https://localhost:8080/"
    },
    "id": "-VdlN0d28-Xr",
    "outputId": "14f731cc-b381-4ac1-be85-6414234f8c68"
   },
   "outputs": [
    {
     "name": "stdout",
     "output_type": "stream",
     "text": [
      "[30, 8, 10]\n",
      "Testing set Accuracy: 0.8641304347826086\n"
     ]
    }
   ],
   "source": [
    "min_samples_split_values = [2,10, 30, 50, 100, 200, 300, 700]\n",
    "max_depth_values = [2, 4, 8, 16, 32, 64, None]\n",
    "n_estimators_values = [10,50,100,500]\n",
    "combinations = []\n",
    "\n",
    "for min_samples_split in min_samples_split_values:\n",
    "    for max_depth in max_depth_values:\n",
    "        for n_estimators in n_estimators_values:\n",
    "            combinations.append([min_samples_split, max_depth, n_estimators])\n",
    "\n",
    "num_of_combinations = len(combinations)\n",
    "train_accuracies = [] ; cv_accuracies = []\n",
    "\n",
    "for idx , combination in enumerate(combinations):\n",
    "    #print(idx)\n",
    "    model = RandomForestClassifier(min_samples_split = combination[0],\n",
    "                                 max_depth = combination[1],\n",
    "                                 n_estimators = combination[2],\n",
    "                                 max_features = 'sqrt',\n",
    "                                 n_jobs = -1,\n",
    "                                 random_state = RS)\n",
    "    model.fit(X_train, y_train)\n",
    "    yhat_train = model.predict(X_train) ; yhat_cv = model.predict(X_cv)\n",
    "    train_accuracy = getAccuracy(yhat_train, y_train)\n",
    "    cv_accuracy = getAccuracy(yhat_cv, y_cv)\n",
    "    train_accuracies.append(train_accuracy) ; cv_accuracies.append(cv_accuracy)\n",
    "\n",
    "temp = cv_accuracies.index(max(cv_accuracies))\n",
    "best_combination = combinations[temp]\n",
    "print(best_combination)\n",
    "\n",
    "# using the best combination\n",
    "model = RandomForestClassifier(min_samples_split = best_combination[0],\n",
    "                                 max_depth = best_combination[1],\n",
    "                                 n_estimators = best_combination[2],\n",
    "                                 max_features = 'sqrt',\n",
    "                                 n_jobs = -1,\n",
    "                                 random_state = RS)\n",
    "model.fit(X_train, y_train)\n",
    "yhat_test = model.predict(X_test)\n",
    "test_accuracy = getAccuracy(yhat_test, y_test)\n",
    "print(f\"Testing set Accuracy: {test_accuracy}\")"
   ]
  },
  {
   "cell_type": "markdown",
   "metadata": {
    "id": "dhzN8yB2Ja17"
   },
   "source": [
    "# XGBoost\n",
    "* [API](https://xgboost.readthedocs.io/en/stable/)"
   ]
  },
  {
   "cell_type": "code",
   "execution_count": 27,
   "metadata": {
    "colab": {
     "base_uri": "https://localhost:8080/"
    },
    "id": "XTA78qIWKIwK",
    "outputId": "b2f44e1f-002f-44c6-c45b-b06a99c34dae"
   },
   "outputs": [
    {
     "name": "stdout",
     "output_type": "stream",
     "text": [
      "[0]\tvalidation_0-logloss:0.64084\n",
      "[1]\tvalidation_0-logloss:0.60075\n",
      "[2]\tvalidation_0-logloss:0.56770\n",
      "[3]\tvalidation_0-logloss:0.54082\n",
      "[4]\tvalidation_0-logloss:0.51907\n",
      "[5]\tvalidation_0-logloss:0.49612\n",
      "[6]\tvalidation_0-logloss:0.48195\n",
      "[7]\tvalidation_0-logloss:0.46360\n",
      "[8]\tvalidation_0-logloss:0.44724\n",
      "[9]\tvalidation_0-logloss:0.43485\n",
      "[10]\tvalidation_0-logloss:0.42295\n",
      "[11]\tvalidation_0-logloss:0.41144\n",
      "[12]\tvalidation_0-logloss:0.40357\n",
      "[13]\tvalidation_0-logloss:0.39288\n",
      "[14]\tvalidation_0-logloss:0.38716\n",
      "[15]\tvalidation_0-logloss:0.38075\n",
      "[16]\tvalidation_0-logloss:0.37179\n",
      "[17]\tvalidation_0-logloss:0.36335\n",
      "[18]\tvalidation_0-logloss:0.35859\n",
      "[19]\tvalidation_0-logloss:0.35458\n",
      "[20]\tvalidation_0-logloss:0.34934\n",
      "[21]\tvalidation_0-logloss:0.34472\n",
      "[22]\tvalidation_0-logloss:0.34280\n",
      "[23]\tvalidation_0-logloss:0.33979\n",
      "[24]\tvalidation_0-logloss:0.33531\n",
      "[25]\tvalidation_0-logloss:0.33427\n",
      "[26]\tvalidation_0-logloss:0.33153\n",
      "[27]\tvalidation_0-logloss:0.32883\n",
      "[28]\tvalidation_0-logloss:0.32618\n",
      "[29]\tvalidation_0-logloss:0.32563\n",
      "[30]\tvalidation_0-logloss:0.32344\n",
      "[31]\tvalidation_0-logloss:0.32315\n",
      "[32]\tvalidation_0-logloss:0.32177\n",
      "[33]\tvalidation_0-logloss:0.32002\n",
      "[34]\tvalidation_0-logloss:0.31987\n",
      "[35]\tvalidation_0-logloss:0.31913\n",
      "[36]\tvalidation_0-logloss:0.31763\n",
      "[37]\tvalidation_0-logloss:0.31788\n",
      "[38]\tvalidation_0-logloss:0.31769\n",
      "[39]\tvalidation_0-logloss:0.31905\n",
      "[40]\tvalidation_0-logloss:0.31876\n",
      "[41]\tvalidation_0-logloss:0.31951\n",
      "[42]\tvalidation_0-logloss:0.31891\n",
      "[43]\tvalidation_0-logloss:0.31906\n",
      "[44]\tvalidation_0-logloss:0.31942\n",
      "[45]\tvalidation_0-logloss:0.31987\n",
      "[46]\tvalidation_0-logloss:0.32012\n",
      "Testing set Accuracy: 0.8206521739130435\n"
     ]
    },
    {
     "name": "stderr",
     "output_type": "stream",
     "text": [
      "/Users/tingyushi/opt/anaconda3/envs/tensorflow/lib/python3.10/site-packages/xgboost/sklearn.py:835: UserWarning: `early_stopping_rounds` in `fit` method is deprecated for better compatibility with scikit-learn, use `early_stopping_rounds` in constructor or`set_params` instead.\n",
      "  warnings.warn(\n"
     ]
    }
   ],
   "source": [
    "xgboost = XGBClassifier(n_estimators = 500, learning_rate = 0.1,verbosity = 1, random_state = RS)\n",
    "xgboost.fit(X_train,y_train, eval_set = [(X_cv, y_cv)], early_stopping_rounds = 10)\n",
    "xgboost.best_iteration\n",
    "yhat_test = xgboost.predict(X_test)\n",
    "test_accuracy = getAccuracy(yhat_test, y_test)\n",
    "print(f\"Testing set Accuracy: {test_accuracy}\")"
   ]
  },
  {
   "cell_type": "markdown",
   "metadata": {
    "id": "LlpsiYp_MdD0"
   },
   "source": [
    "# Code Decision Tree from scrach\n",
    "Only works with discrete features.  \n",
    "Modify the above features so that only discrete features are left"
   ]
  },
  {
   "cell_type": "markdown",
   "metadata": {
    "id": "GmDEWOAGbzzJ"
   },
   "source": [
    "## Pre-processing dataset"
   ]
  },
  {
   "cell_type": "code",
   "execution_count": 28,
   "metadata": {
    "colab": {
     "base_uri": "https://localhost:8080/",
     "height": 206
    },
    "id": "qbx3UuulZUGE",
    "outputId": "7b6d9814-59e7-433f-aef4-140a4e83d482"
   },
   "outputs": [
    {
     "data": {
      "text/html": [
       "<div>\n",
       "<style scoped>\n",
       "    .dataframe tbody tr th:only-of-type {\n",
       "        vertical-align: middle;\n",
       "    }\n",
       "\n",
       "    .dataframe tbody tr th {\n",
       "        vertical-align: top;\n",
       "    }\n",
       "\n",
       "    .dataframe thead th {\n",
       "        text-align: right;\n",
       "    }\n",
       "</style>\n",
       "<table border=\"1\" class=\"dataframe\">\n",
       "  <thead>\n",
       "    <tr style=\"text-align: right;\">\n",
       "      <th></th>\n",
       "      <th>Sex</th>\n",
       "      <th>ChestPainType</th>\n",
       "      <th>FastingBS</th>\n",
       "      <th>RestingECG</th>\n",
       "      <th>ExerciseAngina</th>\n",
       "      <th>ST_Slope</th>\n",
       "    </tr>\n",
       "  </thead>\n",
       "  <tbody>\n",
       "    <tr>\n",
       "      <th>0</th>\n",
       "      <td>M</td>\n",
       "      <td>ATA</td>\n",
       "      <td>0</td>\n",
       "      <td>Normal</td>\n",
       "      <td>N</td>\n",
       "      <td>Up</td>\n",
       "    </tr>\n",
       "    <tr>\n",
       "      <th>1</th>\n",
       "      <td>F</td>\n",
       "      <td>NAP</td>\n",
       "      <td>0</td>\n",
       "      <td>Normal</td>\n",
       "      <td>N</td>\n",
       "      <td>Flat</td>\n",
       "    </tr>\n",
       "    <tr>\n",
       "      <th>2</th>\n",
       "      <td>M</td>\n",
       "      <td>ATA</td>\n",
       "      <td>0</td>\n",
       "      <td>ST</td>\n",
       "      <td>N</td>\n",
       "      <td>Up</td>\n",
       "    </tr>\n",
       "    <tr>\n",
       "      <th>3</th>\n",
       "      <td>F</td>\n",
       "      <td>ASY</td>\n",
       "      <td>0</td>\n",
       "      <td>Normal</td>\n",
       "      <td>Y</td>\n",
       "      <td>Flat</td>\n",
       "    </tr>\n",
       "    <tr>\n",
       "      <th>4</th>\n",
       "      <td>M</td>\n",
       "      <td>NAP</td>\n",
       "      <td>0</td>\n",
       "      <td>Normal</td>\n",
       "      <td>N</td>\n",
       "      <td>Up</td>\n",
       "    </tr>\n",
       "  </tbody>\n",
       "</table>\n",
       "</div>"
      ],
      "text/plain": [
       "  Sex ChestPainType  FastingBS RestingECG ExerciseAngina ST_Slope\n",
       "0   M           ATA          0     Normal              N       Up\n",
       "1   F           NAP          0     Normal              N     Flat\n",
       "2   M           ATA          0         ST              N       Up\n",
       "3   F           ASY          0     Normal              Y     Flat\n",
       "4   M           NAP          0     Normal              N       Up"
      ]
     },
     "execution_count": 28,
     "metadata": {},
     "output_type": "execute_result"
    }
   ],
   "source": [
    "# drop continous features from the above data set\n",
    "df = pd.read_csv('heart.csv')\n",
    "df = df.drop(columns = ['Age', 'RestingBP', 'Cholesterol', 'MaxHR', 'Oldpeak', 'HeartDisease'])\n",
    "df.head()"
   ]
  },
  {
   "cell_type": "code",
   "execution_count": 29,
   "metadata": {
    "colab": {
     "base_uri": "https://localhost:8080/",
     "height": 270
    },
    "id": "OsLohndkajUt",
    "outputId": "f6297416-5b25-4584-a14e-a6971b35a05a"
   },
   "outputs": [
    {
     "data": {
      "text/html": [
       "<div>\n",
       "<style scoped>\n",
       "    .dataframe tbody tr th:only-of-type {\n",
       "        vertical-align: middle;\n",
       "    }\n",
       "\n",
       "    .dataframe tbody tr th {\n",
       "        vertical-align: top;\n",
       "    }\n",
       "\n",
       "    .dataframe thead th {\n",
       "        text-align: right;\n",
       "    }\n",
       "</style>\n",
       "<table border=\"1\" class=\"dataframe\">\n",
       "  <thead>\n",
       "    <tr style=\"text-align: right;\">\n",
       "      <th></th>\n",
       "      <th>FastingBS</th>\n",
       "      <th>Sex_F</th>\n",
       "      <th>Sex_M</th>\n",
       "      <th>ChestPainType_ASY</th>\n",
       "      <th>ChestPainType_ATA</th>\n",
       "      <th>ChestPainType_NAP</th>\n",
       "      <th>ChestPainType_TA</th>\n",
       "      <th>RestingECG_LVH</th>\n",
       "      <th>RestingECG_Normal</th>\n",
       "      <th>RestingECG_ST</th>\n",
       "      <th>ExerciseAngina_N</th>\n",
       "      <th>ExerciseAngina_Y</th>\n",
       "      <th>ST_Slope_Down</th>\n",
       "      <th>ST_Slope_Flat</th>\n",
       "      <th>ST_Slope_Up</th>\n",
       "    </tr>\n",
       "  </thead>\n",
       "  <tbody>\n",
       "    <tr>\n",
       "      <th>0</th>\n",
       "      <td>0</td>\n",
       "      <td>0</td>\n",
       "      <td>1</td>\n",
       "      <td>0</td>\n",
       "      <td>1</td>\n",
       "      <td>0</td>\n",
       "      <td>0</td>\n",
       "      <td>0</td>\n",
       "      <td>1</td>\n",
       "      <td>0</td>\n",
       "      <td>1</td>\n",
       "      <td>0</td>\n",
       "      <td>0</td>\n",
       "      <td>0</td>\n",
       "      <td>1</td>\n",
       "    </tr>\n",
       "    <tr>\n",
       "      <th>1</th>\n",
       "      <td>0</td>\n",
       "      <td>1</td>\n",
       "      <td>0</td>\n",
       "      <td>0</td>\n",
       "      <td>0</td>\n",
       "      <td>1</td>\n",
       "      <td>0</td>\n",
       "      <td>0</td>\n",
       "      <td>1</td>\n",
       "      <td>0</td>\n",
       "      <td>1</td>\n",
       "      <td>0</td>\n",
       "      <td>0</td>\n",
       "      <td>1</td>\n",
       "      <td>0</td>\n",
       "    </tr>\n",
       "    <tr>\n",
       "      <th>2</th>\n",
       "      <td>0</td>\n",
       "      <td>0</td>\n",
       "      <td>1</td>\n",
       "      <td>0</td>\n",
       "      <td>1</td>\n",
       "      <td>0</td>\n",
       "      <td>0</td>\n",
       "      <td>0</td>\n",
       "      <td>0</td>\n",
       "      <td>1</td>\n",
       "      <td>1</td>\n",
       "      <td>0</td>\n",
       "      <td>0</td>\n",
       "      <td>0</td>\n",
       "      <td>1</td>\n",
       "    </tr>\n",
       "    <tr>\n",
       "      <th>3</th>\n",
       "      <td>0</td>\n",
       "      <td>1</td>\n",
       "      <td>0</td>\n",
       "      <td>1</td>\n",
       "      <td>0</td>\n",
       "      <td>0</td>\n",
       "      <td>0</td>\n",
       "      <td>0</td>\n",
       "      <td>1</td>\n",
       "      <td>0</td>\n",
       "      <td>0</td>\n",
       "      <td>1</td>\n",
       "      <td>0</td>\n",
       "      <td>1</td>\n",
       "      <td>0</td>\n",
       "    </tr>\n",
       "    <tr>\n",
       "      <th>4</th>\n",
       "      <td>0</td>\n",
       "      <td>0</td>\n",
       "      <td>1</td>\n",
       "      <td>0</td>\n",
       "      <td>0</td>\n",
       "      <td>1</td>\n",
       "      <td>0</td>\n",
       "      <td>0</td>\n",
       "      <td>1</td>\n",
       "      <td>0</td>\n",
       "      <td>1</td>\n",
       "      <td>0</td>\n",
       "      <td>0</td>\n",
       "      <td>0</td>\n",
       "      <td>1</td>\n",
       "    </tr>\n",
       "  </tbody>\n",
       "</table>\n",
       "</div>"
      ],
      "text/plain": [
       "   FastingBS  Sex_F  Sex_M  ChestPainType_ASY  ChestPainType_ATA  \\\n",
       "0          0      0      1                  0                  1   \n",
       "1          0      1      0                  0                  0   \n",
       "2          0      0      1                  0                  1   \n",
       "3          0      1      0                  1                  0   \n",
       "4          0      0      1                  0                  0   \n",
       "\n",
       "   ChestPainType_NAP  ChestPainType_TA  RestingECG_LVH  RestingECG_Normal  \\\n",
       "0                  0                 0               0                  1   \n",
       "1                  1                 0               0                  1   \n",
       "2                  0                 0               0                  0   \n",
       "3                  0                 0               0                  1   \n",
       "4                  1                 0               0                  1   \n",
       "\n",
       "   RestingECG_ST  ExerciseAngina_N  ExerciseAngina_Y  ST_Slope_Down  \\\n",
       "0              0                 1                 0              0   \n",
       "1              0                 1                 0              0   \n",
       "2              1                 1                 0              0   \n",
       "3              0                 0                 1              0   \n",
       "4              0                 1                 0              0   \n",
       "\n",
       "   ST_Slope_Flat  ST_Slope_Up  \n",
       "0              0            1  \n",
       "1              1            0  \n",
       "2              0            1  \n",
       "3              1            0  \n",
       "4              0            1  "
      ]
     },
     "execution_count": 29,
     "metadata": {},
     "output_type": "execute_result"
    }
   ],
   "source": [
    "discrete_features = ['Sex', 'ChestPainType', 'RestingECG',\n",
    "                     'ExerciseAngina', 'ST_Slope']\n",
    "Xdf = pd.get_dummies(data = df, prefix = discrete_features,\n",
    "                    columns = discrete_features)\n",
    "Xdf.head()"
   ]
  },
  {
   "cell_type": "code",
   "execution_count": 30,
   "metadata": {
    "colab": {
     "base_uri": "https://localhost:8080/"
    },
    "id": "llrYac-Ja6CR",
    "outputId": "6aadd292-9b31-40d1-e9a7-2df910097ed2"
   },
   "outputs": [
    {
     "name": "stdout",
     "output_type": "stream",
     "text": [
      "(550, 15)\n",
      "(550,)\n",
      "(184, 15)\n",
      "(184,)\n",
      "(184, 15)\n",
      "(184,)\n"
     ]
    }
   ],
   "source": [
    "X = Xdf.values\n",
    "X_train, X_test, y_train, y_test = train_test_split(X, y, test_size = 0.4, random_state=42)\n",
    "X_test, X_cv, y_test, y_cv = train_test_split(X_test, y_test, test_size = 0.5, random_state=42)\n",
    "print(X_train.shape) ; print(y_train.shape)\n",
    "print(X_cv.shape) ; print(y_cv.shape)\n",
    "print(X_test.shape) ; print(y_test.shape)"
   ]
  },
  {
   "cell_type": "markdown",
   "metadata": {
    "id": "sZujMLPzb4WE"
   },
   "source": [
    "## Using API with the new dataset(with only discrete features)"
   ]
  },
  {
   "cell_type": "code",
   "execution_count": 31,
   "metadata": {
    "colab": {
     "base_uri": "https://localhost:8080/"
    },
    "id": "SKxBNLMwa9hz",
    "outputId": "b23e891d-e818-4445-ae99-c9a1c491c5e4"
   },
   "outputs": [
    {
     "name": "stdout",
     "output_type": "stream",
     "text": [
      "Testing set Accuracy: 0.8315217391304348\n"
     ]
    }
   ],
   "source": [
    "model = DecisionTreeClassifier(min_samples_split = best_min_sample_split,\n",
    "                               max_depth = best_max_depth,\n",
    "                               random_state = RS)\n",
    "model.fit(X_train, y_train)\n",
    "yhat = model.predict(X_test)\n",
    "print(f\"Testing set Accuracy: {getAccuracy(yhat, y_test)}\")"
   ]
  },
  {
   "cell_type": "markdown",
   "metadata": {
    "id": "MPYZuLrzcCkP"
   },
   "source": [
    "## Code from the scrach"
   ]
  },
  {
   "cell_type": "code",
   "execution_count": 32,
   "metadata": {
    "colab": {
     "base_uri": "https://localhost:8080/",
     "height": 523
    },
    "id": "1ccNJHcKMleJ",
    "outputId": "2a857577-a7d0-453c-a5d9-93a8000424d3"
   },
   "outputs": [
    {
     "name": "stdout",
     "output_type": "stream",
     "text": [
      "best max depth: 6\n",
      "Accuracy on testing set: 0.842391304347826\n"
     ]
    },
    {
     "data": {
      "image/png": "[encoded data removed]",
      "text/plain": [
       "<Figure size 800x500 with 1 Axes>"
      ]
     },
     "metadata": {},
     "output_type": "display_data"
    }
   ],
   "source": [
    "def entropy(p):\n",
    "    '''\n",
    "    Used to calculate impurity\n",
    "\n",
    "    Args:\n",
    "    p : the fraction of positive examples\n",
    "\n",
    "    Returns:\n",
    "    entropy\n",
    "    '''\n",
    "    if p == 0 or p == 1:\n",
    "        return 0\n",
    "    return -1 * p * np.log2(p) - (1 - p) * np.log2(1 - p)\n",
    "\n",
    "\n",
    "\n",
    "def split_dataset(X, node_indices, feature):\n",
    "    '''\n",
    "    split a dataset according to a discrete featurefeature\n",
    "\n",
    "    Args:\n",
    "    X            : entire data set\n",
    "    node_indices : the indices of node that are being considered\n",
    "    feature      : the index of a feature\n",
    "\n",
    "    Returns:\n",
    "    node indices of left branch and right branch\n",
    "    '''\n",
    "    left_indices = [] ; right_indices = []\n",
    "    for node_index in node_indices:\n",
    "        if (X[node_index , feature] == 1):\n",
    "            left_indices.append(node_index)\n",
    "        else:\n",
    "            right_indices.append(node_index)\n",
    "    return left_indices, right_indices\n",
    "\n",
    "\n",
    "\n",
    "def information_gain(X, y, node_indices, feature):\n",
    "    '''\n",
    "    Calculate information gain if we splite on a specific feature\n",
    "\n",
    "    Args:\n",
    "    X       : training examples\n",
    "    y       : labels\n",
    "    feature : an index indicating a specific feature\n",
    "\n",
    "    Returns:\n",
    "    the information gain of a set of nodes spliting on a specific feature\n",
    "    '''\n",
    "\n",
    "    left_indices, right_indices = split_dataset(X, node_indices, feature)\n",
    "\n",
    "    # this feature is not useful, set informaion gain to be -inf\n",
    "    if len(left_indices) == 0 or len(right_indices) == 0:\n",
    "        return -math.inf\n",
    "\n",
    "    X_root = X[node_indices] ; y_root = y[node_indices]\n",
    "    X_left = X[left_indices] ; y_left = y[left_indices]\n",
    "    X_right = X[right_indices] ; y_right = y[right_indices]\n",
    "\n",
    "    wleft = X_left.shape[0] / X_root.shape[0]\n",
    "    wright = X_right.shape[0] / X_root.shape[0]\n",
    "\n",
    "    proot = np.count_nonzero(y_root) / y_root.shape[0]\n",
    "    pleft = np.count_nonzero(y_left) / y_left.shape[0]\n",
    "    pright = np.count_nonzero(y_right) / y_right.shape[0]\n",
    "\n",
    "    return entropy(proot) - (wleft * entropy(pleft) + wright * entropy(pright))\n",
    "\n",
    "\n",
    "\n",
    "def select_feature(X, y, node_indices):\n",
    "    '''\n",
    "    select a feature for a node\n",
    "\n",
    "    Args:\n",
    "    X            : the whole data set\n",
    "    y            : labels\n",
    "    node_indices : the node indices that are being considered\n",
    "\n",
    "    Returns:\n",
    "    the index of the selected feature, if we cannot gain any information by\n",
    "    using any feature, return -1\n",
    "    '''\n",
    "    feature_size = X.shape[1]\n",
    "    best_feature_index = 0\n",
    "    best_info_gain = information_gain(X, y, node_indices, best_feature_index)\n",
    "    for feature in range(feature_size):\n",
    "        temp = information_gain(X, y, node_indices, feature)\n",
    "        if temp > best_info_gain:\n",
    "            best_info_gain = temp\n",
    "            best_feature_index = feature\n",
    "\n",
    "    if best_info_gain < 0:\n",
    "        return -1\n",
    "    return best_feature_index\n",
    "\n",
    "\n",
    "\n",
    "class Node:\n",
    "    '''\n",
    "    The node class for the decision tree\n",
    "    '''\n",
    "    def __init__(self):\n",
    "        self.feature = -1\n",
    "        self.left = None\n",
    "        self.right = None\n",
    "        self.is_leaf = False\n",
    "        self.classNumber = -1\n",
    "        self.node_indices = None\n",
    "\n",
    "    def getClass(self):\n",
    "        if self.is_leaf:\n",
    "            return self.classNumber\n",
    "        else:\n",
    "            return None\n",
    "\n",
    "\n",
    "\n",
    "def build_empty_tree(max_depth):\n",
    "    '''\n",
    "    Build a complete Binary Tree with max depth\n",
    "\n",
    "    Args:\n",
    "    max_depth : maximum depth of the decision tree\n",
    "\n",
    "    Returns:\n",
    "    root of the empty tree\n",
    "    '''\n",
    "    root = Node()\n",
    "    for i in range(max_depth):\n",
    "        if i == 0:\n",
    "            previous_layer = [root]\n",
    "        temp = []\n",
    "        for node in previous_layer:\n",
    "            node.left = Node()\n",
    "            node.right = Node()\n",
    "            temp.append(node.left)\n",
    "            temp.append(node.right)\n",
    "        previous_layer = temp\n",
    "\n",
    "\n",
    "    return root\n",
    "\n",
    "\n",
    "\n",
    "def build_tree(X, y, node_indices, max_depth):\n",
    "    '''\n",
    "    Build the decision tree\n",
    "\n",
    "    Args:\n",
    "    X             : dataset\n",
    "    y             : labels\n",
    "    node_indices  : the indices of nodes that are considered when building the tree\n",
    "    max_depth     : maximum depth of the decision tree\n",
    "\n",
    "    Returns:\n",
    "    the root of the tree\n",
    "    '''\n",
    "\n",
    "    # build root node\n",
    "    root = Node()\n",
    "    root.feature = select_feature(X, y, node_indices)\n",
    "    root.node_indices = node_indices\n",
    "\n",
    "    previous_layer = [root]\n",
    "\n",
    "    for i in range(max_depth - 1):\n",
    "        temp = []\n",
    "\n",
    "        for node in previous_layer:\n",
    "\n",
    "            # creating left node and right node\n",
    "            node.left = Node()\n",
    "            node.right = Node()\n",
    "\n",
    "            #split data first\n",
    "            left_indices, right_indices = split_dataset(X, node.node_indices,\n",
    "                                                      node.feature)\n",
    "\n",
    "            # assign node indices to left node and right node\n",
    "            node.left.node_indices = left_indices\n",
    "            node.right.node_indices = right_indices\n",
    "\n",
    "            # select feature for the left node\n",
    "            left_feature = select_feature(X, y, left_indices)\n",
    "            if left_feature < 0:\n",
    "                node.left.is_leaf = True\n",
    "                ylables = y[left_indices]\n",
    "                class1Size = np.count_nonzero(ylables)\n",
    "                if (class1Size / len(left_indices) ) > 0.5:\n",
    "                    node.left.classNumber = 1\n",
    "                else:\n",
    "                    node.left.classNumber = 0\n",
    "            else:\n",
    "                node.left.feature = left_feature\n",
    "                temp.append(node.left)\n",
    "\n",
    "            # select feature for the right node\n",
    "            right_feature = select_feature(X, y, right_indices)\n",
    "            if right_feature < 0:\n",
    "                node.right.is_leaf = True\n",
    "                ylabels = y[right_indices]\n",
    "                class1Size = np.count_nonzero(ylabels)\n",
    "                if (class1Size / len(right_indices)) > 0.5:\n",
    "                    node.right.classNumber = 1\n",
    "                else:\n",
    "                    node.right.classNumber = 0\n",
    "            else:\n",
    "                node.right.feature = right_feature\n",
    "                temp.append(node.right)\n",
    "\n",
    "        previous_layer = temp\n",
    "\n",
    "    # handle the last layer\n",
    "    for leaf_node in previous_layer:\n",
    "        leaf_node.is_leaf = True\n",
    "        ylables = y[leaf_node.node_indices]\n",
    "        class1Size = np.count_nonzero(ylables)\n",
    "        if (class1Size / len(leaf_node.node_indices) ) > 0.5:\n",
    "            leaf_node.classNumber = 1\n",
    "        else:\n",
    "            leaf_node.classNumber = 0\n",
    "\n",
    "    return root\n",
    "\n",
    "\n",
    "\n",
    "def predict1(x, root):\n",
    "    '''\n",
    "    predict a single data example\n",
    "\n",
    "    Args:\n",
    "    x    : a data example\n",
    "    root : the root of the decision tree\n",
    "\n",
    "    Retures:\n",
    "    predicted label\n",
    "    '''\n",
    "    current = root\n",
    "    while not current.is_leaf:\n",
    "        if x[current.feature] == 1:\n",
    "            current = current.left\n",
    "        else:\n",
    "            current = current.right\n",
    "    return current.getClass()\n",
    "\n",
    "\n",
    "\n",
    "def predict(X, root):\n",
    "    '''\n",
    "    predict a set of data examples\n",
    "\n",
    "    Args:\n",
    "    X    : data set\n",
    "    root : root of the decision tree\n",
    "\n",
    "    Returns:\n",
    "    predictions\n",
    "    '''\n",
    "    m = X.shape[0]\n",
    "    yhat = []\n",
    "    for i in range(m):\n",
    "        x = X[i , :]\n",
    "        yhat.append(predict1(x, root))\n",
    "    return yhat\n",
    "\n",
    "\n",
    "nodes = [i for i in range(y_train.shape[0])]\n",
    "depths =[i for i in range(100)]\n",
    "train_accuracies = []\n",
    "cv_accuracies = []\n",
    "\n",
    "for depth in depths:\n",
    "    root = build_tree(X_train, y_train, nodes, depth)\n",
    "    yhat = predict(X_train, root)\n",
    "    train_accuracies.append(getAccuracy(yhat, y_train))\n",
    "    yhat = predict(X_cv, root)\n",
    "    cv_accuracies.append(getAccuracy(yhat, y_cv))\n",
    "\n",
    "plt.plot(depths, train_accuracies, linewidth = 1, label = \"Train Accuracy\")\n",
    "plt.plot(depths, cv_accuracies, linewidth = 1, label = \"CV Accuracy\")\n",
    "plt.legend()\n",
    "plt.xlabel(\"Maximum Depth\")\n",
    "plt.ylabel(\"Accuracy\")\n",
    "plt.gcf().set_size_inches(8, 5)\n",
    "plt.title(\"Accuracy VS. Maximum Depth\")\n",
    "temp = cv_accuracies.index(max(cv_accuracies))\n",
    "best_max_depth = depths[temp]\n",
    "print(f\"best max depth: {best_max_depth}\")\n",
    "\n",
    "root = build_tree(X_train, y_train, nodes, best_max_depth)\n",
    "yhat = predict(X_test, root)\n",
    "print(f\"Accuracy on testing set: {getAccuracy(yhat, y_test)}\")"
   ]
  },
  {
   "cell_type": "markdown",
   "metadata": {
    "id": "KS2TklYuaPWE"
   },
   "source": [
    "# Future Plan\n",
    "* Handle continuous features"
   ]
  }
 ],
 "metadata": {
  "colab": {
   "collapsed_sections": [
    "D77ATor1Iwju"
   ],
   "provenance": []
  },
  "kernelspec": {
   "display_name": "Python 3.10 (tensorflow)",
   "language": "python",
   "name": "tensorflow"
  },
  "language_info": {
   "codemirror_mode": {
    "name": "ipython",
    "version": 3
   },
   "file_extension": ".py",
   "mimetype": "text/x-python",
   "name": "python",
   "nbconvert_exporter": "python",
   "pygments_lexer": "ipython3",
   "version": "3.10.12"
  }
 },
 "nbformat": 4,
 "nbformat_minor": 1
}
