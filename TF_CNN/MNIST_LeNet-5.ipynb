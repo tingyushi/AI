{
 "cells": [
  {
   "cell_type": "markdown",
   "id": "1779f861",
   "metadata": {},
   "source": [
    "# Image Classification using LeNet-5\n",
    "\n",
    "## Archtecture \n",
    "![](images/LeNet-5.png)\n",
    "\n",
    "## Activation Function\n",
    "tanh\n",
    "\n",
    "## [Fully Connection VS. Gaussian Connection](https://medium.com/mlearning-ai/what-exactly-is-the-gaussian-connection-f0f09cbbe65e)\n",
    "* Gaussian Connection: The output will not be plugged into any activation function\n",
    "* Full Connection: The output will be plugged into a activation function"
   ]
  },
  {
   "cell_type": "markdown",
   "id": "11464fba",
   "metadata": {},
   "source": [
    "## Import Packages"
   ]
  },
  {
   "cell_type": "code",
   "execution_count": 20,
   "id": "f0a4db0c",
   "metadata": {},
   "outputs": [],
   "source": [
    "import tensorflow as tf\n",
    "import tensorflow.keras.layers as tfl\n",
    "import numpy as np\n",
    "import tensorflow.keras.datasets.mnist as mnist\n",
    "import matplotlib.pyplot as plt\n",
    "import tensorflow.keras as keras\n",
    "import pandas as pd"
   ]
  },
  {
   "cell_type": "markdown",
   "id": "b148e67d",
   "metadata": {},
   "source": [
    "## Load data and data preprocessing"
   ]
  },
  {
   "cell_type": "code",
   "execution_count": 2,
   "id": "9a543eab",
   "metadata": {},
   "outputs": [],
   "source": [
    "(x_train, y_train), (x_test, y_test) = mnist.load_data()"
   ]
  },
  {
   "cell_type": "code",
   "execution_count": 3,
   "id": "23878beb",
   "metadata": {},
   "outputs": [
    {
     "name": "stdout",
     "output_type": "stream",
     "text": [
      "x_train shape: (60000, 28, 28)\n",
      "y_train shape: (60000,)\n",
      "x_test shape: (10000, 28, 28)\n",
      "y_test shape: (10000,)\n"
     ]
    }
   ],
   "source": [
    "print(f\"x_train shape: {x_train.shape}\")\n",
    "print(f\"y_train shape: {y_train.shape}\")\n",
    "print(f\"x_test shape: {x_test.shape}\")\n",
    "print(f\"y_test shape: {y_test.shape}\")"
   ]
  },
  {
   "cell_type": "code",
   "execution_count": 4,
   "id": "1dbe3e8f",
   "metadata": {},
   "outputs": [
    {
     "name": "stdout",
     "output_type": "stream",
     "text": [
      "x_train shape: (50000, 28, 28)\n",
      "y_train shape: (50000,)\n",
      "x_test shape: (10000, 28, 28)\n",
      "y_test shape: (10000,)\n",
      "x_cv shape: (10000, 28, 28)\n",
      "y_cv shape: (10000,)\n"
     ]
    }
   ],
   "source": [
    "x_cv = x_train[0:10000, :, :]\n",
    "x_train = x_train[10000:60000, :, :]\n",
    "y_cv = y_train[0:10000]\n",
    "y_train = y_train[10000:60000]\n",
    "\n",
    "print(f\"x_train shape: {x_train.shape}\")\n",
    "print(f\"y_train shape: {y_train.shape}\")\n",
    "print(f\"x_test shape: {x_test.shape}\")\n",
    "print(f\"y_test shape: {y_test.shape}\")\n",
    "print(f\"x_cv shape: {x_cv.shape}\")\n",
    "print(f\"y_cv shape: {y_cv.shape}\")"
   ]
  },
  {
   "cell_type": "code",
   "execution_count": 5,
   "id": "43ede631",
   "metadata": {},
   "outputs": [
    {
     "name": "stdout",
     "output_type": "stream",
     "text": [
      "Image shows 5\n"
     ]
    },
    {
     "data": {
      "image/png": "[encoded data removed]",
      "text/plain": [
       "<Figure size 640x480 with 1 Axes>"
      ]
     },
     "metadata": {},
     "output_type": "display_data"
    }
   ],
   "source": [
    "x_cv = x_train[0:10000, :, :]\n",
    "x_train = x_train[10000:60000, :, :]\n",
    "y_cv = y_train[0:10000]\n",
    "y_train = y_train[10000:60000]\n",
    "\n",
    "\n",
    "\n",
    "img = x_train[0]\n",
    "plt.imshow(img, 'gray')\n",
    "print(f\"Image shows {y_train[0]}\")"
   ]
  },
  {
   "cell_type": "code",
   "execution_count": 6,
   "id": "56523048",
   "metadata": {},
   "outputs": [],
   "source": [
    "# normalize the data\n",
    "x_train = x_train / 255.0\n",
    "x_test = x_test / 255.0"
   ]
  },
  {
   "cell_type": "markdown",
   "id": "65fae6cc",
   "metadata": {},
   "source": [
    "## Build LeNet-5"
   ]
  },
  {
   "cell_type": "code",
   "execution_count": 7,
   "id": "29e1a22a",
   "metadata": {},
   "outputs": [
    {
     "name": "stderr",
     "output_type": "stream",
     "text": [
      "2023-07-26 17:07:32.817768: I tensorflow/core/common_runtime/pluggable_device/pluggable_device_factory.cc:306] Could not identify NUMA node of platform GPU ID 0, defaulting to 0. Your kernel may not have been built with NUMA support.\n",
      "2023-07-26 17:07:32.817812: I tensorflow/core/common_runtime/pluggable_device/pluggable_device_factory.cc:272] Created TensorFlow device (/job:localhost/replica:0/task:0/device:GPU:0 with 0 MB memory) -> physical PluggableDevice (device: 0, name: METAL, pci bus id: <undefined>)\n"
     ]
    }
   ],
   "source": [
    "lenet_5 = tf.keras.Sequential([\n",
    "    tf.keras.Input(shape=(28, 28, 1)),\n",
    "    \n",
    "    # convolutions\n",
    "    tfl.Conv2D(filters = 6,\n",
    "               kernel_size = (5, 5),\n",
    "               strides = (1, 1),\n",
    "               padding ='same',\n",
    "               activation ='tanh'),\n",
    "    \n",
    "    # subsampling\n",
    "    tfl.AveragePooling2D(pool_size = (2, 2),\n",
    "                         strides = (2, 2),\n",
    "                         padding ='valid'),\n",
    "    \n",
    "    # convolutions\n",
    "    tfl.Conv2D(filters = 16,\n",
    "               kernel_size = (5, 5),\n",
    "               strides = (1, 1),\n",
    "               padding ='valid',\n",
    "               activation ='tanh'),\n",
    "    \n",
    "    # subsampling\n",
    "    tfl.AveragePooling2D(pool_size = (2, 2),\n",
    "                         padding ='valid',\n",
    "                        strides = (2, 2)),\n",
    "    \n",
    "    # convolutions\n",
    "    tfl.Conv2D(filters = 120,\n",
    "               kernel_size = (5, 5),\n",
    "               strides = (1, 1),\n",
    "               padding ='valid',\n",
    "               activation ='tanh'),\n",
    "    \n",
    "    tfl.Flatten(),\n",
    "    \n",
    "    tfl.Dense(units = 80, activation ='tanh'),\n",
    "    \n",
    "    tfl.Dense(units = 10, activation ='softmax')\n",
    "        ])"
   ]
  },
  {
   "cell_type": "code",
   "execution_count": 8,
   "id": "23575ae3",
   "metadata": {},
   "outputs": [
    {
     "name": "stdout",
     "output_type": "stream",
     "text": [
      "<keras.layers.convolutional.conv2d.Conv2D object at 0x7fa573bb0a00>\n",
      "<keras.layers.pooling.average_pooling2d.AveragePooling2D object at 0x7fa5300d4e80>\n",
      "<keras.layers.convolutional.conv2d.Conv2D object at 0x7fa573bb37f0>\n",
      "<keras.layers.pooling.average_pooling2d.AveragePooling2D object at 0x7fa5300d6920>\n",
      "<keras.layers.convolutional.conv2d.Conv2D object at 0x7fa5300d6f20>\n",
      "<keras.layers.reshaping.flatten.Flatten object at 0x7fa5300d4160>\n",
      "<keras.layers.core.dense.Dense object at 0x7fa5300d68c0>\n",
      "<keras.layers.core.dense.Dense object at 0x7fa5300d56c0>\n"
     ]
    }
   ],
   "source": [
    "for layer in lenet_5.layers:\n",
    "    print(layer)"
   ]
  },
  {
   "cell_type": "code",
   "execution_count": 9,
   "id": "4347ccca",
   "metadata": {},
   "outputs": [],
   "source": [
    "lenet_5.compile(optimizer = 'adam', \n",
    "                loss = 'sparse_categorical_crossentropy',\n",
    "                metrics = ['accuracy'])"
   ]
  },
  {
   "cell_type": "code",
   "execution_count": 10,
   "id": "68391e4c",
   "metadata": {},
   "outputs": [
    {
     "name": "stdout",
     "output_type": "stream",
     "text": [
      "Epoch 1/5\n"
     ]
    },
    {
     "name": "stderr",
     "output_type": "stream",
     "text": [
      "2023-07-26 17:07:33.565948: I tensorflow/core/grappler/optimizers/custom_graph_optimizer_registry.cc:114] Plugin optimizer for device_type GPU is enabled.\n",
      "2023-07-26 17:07:33.619333: E tensorflow/core/grappler/optimizers/meta_optimizer.cc:954] model_pruner failed: INVALID_ARGUMENT: Graph does not contain terminal node AssignAddVariableOp_10.\n"
     ]
    },
    {
     "name": "stdout",
     "output_type": "stream",
     "text": [
      "1250/1250 [==============================] - ETA: 0s - loss: 0.2805 - accuracy: 0.9174"
     ]
    },
    {
     "name": "stderr",
     "output_type": "stream",
     "text": [
      "2023-07-26 17:07:49.474716: I tensorflow/core/grappler/optimizers/custom_graph_optimizer_registry.cc:114] Plugin optimizer for device_type GPU is enabled.\n"
     ]
    },
    {
     "name": "stdout",
     "output_type": "stream",
     "text": [
      "1250/1250 [==============================] - 18s 14ms/step - loss: 0.2805 - accuracy: 0.9174 - val_loss: 0.1730 - val_accuracy: 0.9473\n",
      "Epoch 2/5\n",
      "1250/1250 [==============================] - 17s 13ms/step - loss: 0.1044 - accuracy: 0.9681 - val_loss: 0.1400 - val_accuracy: 0.9546\n",
      "Epoch 3/5\n",
      "1250/1250 [==============================] - 17s 13ms/step - loss: 0.0694 - accuracy: 0.9786 - val_loss: 0.1103 - val_accuracy: 0.9670\n",
      "Epoch 4/5\n",
      "1250/1250 [==============================] - 17s 13ms/step - loss: 0.0508 - accuracy: 0.9839 - val_loss: 0.0943 - val_accuracy: 0.9716\n",
      "Epoch 5/5\n",
      "1250/1250 [==============================] - 17s 13ms/step - loss: 0.0406 - accuracy: 0.9872 - val_loss: 0.1127 - val_accuracy: 0.9674\n"
     ]
    },
    {
     "data": {
      "text/plain": [
       "<keras.callbacks.History at 0x7fa573bd9ba0>"
      ]
     },
     "execution_count": 10,
     "metadata": {},
     "output_type": "execute_result"
    }
   ],
   "source": [
    "lenet_5.fit(x_train, \n",
    "            y_train, \n",
    "            epochs = 5, \n",
    "            validation_data = (x_cv, y_cv))"
   ]
  },
  {
   "cell_type": "markdown",
   "id": "2c738dd8",
   "metadata": {},
   "source": [
    "## Model Evaluation"
   ]
  },
  {
   "cell_type": "code",
   "execution_count": 11,
   "id": "4bacaa29",
   "metadata": {},
   "outputs": [
    {
     "data": {
      "text/plain": [
       "<Axes: >"
      ]
     },
     "execution_count": 11,
     "metadata": {},
     "output_type": "execute_result"
    },
    {
     "data": {
      "image/png": "[encoded data removed]",
      "text/plain": [
       "<Figure size 640x480 with 1 Axes>"
      ]
     },
     "metadata": {},
     "output_type": "display_data"
    }
   ],
   "source": [
    "model_loss = pd.DataFrame(lenet_5.history.history)\n",
    "model_loss.plot()"
   ]
  },
  {
   "cell_type": "code",
   "execution_count": 12,
   "id": "1cfc6644",
   "metadata": {},
   "outputs": [
    {
     "name": "stdout",
     "output_type": "stream",
     "text": [
      "  8/313 [..............................] - ETA: 2s - loss: 0.0259 - accuracy: 0.9922 "
     ]
    },
    {
     "name": "stderr",
     "output_type": "stream",
     "text": [
      "2023-07-26 17:08:58.131111: I tensorflow/core/grappler/optimizers/custom_graph_optimizer_registry.cc:114] Plugin optimizer for device_type GPU is enabled.\n"
     ]
    },
    {
     "name": "stdout",
     "output_type": "stream",
     "text": [
      "313/313 [==============================] - 2s 7ms/step - loss: 0.0638 - accuracy: 0.9813\n"
     ]
    },
    {
     "data": {
      "text/plain": [
       "[0.06382226198911667, 0.9812999963760376]"
      ]
     },
     "execution_count": 12,
     "metadata": {},
     "output_type": "execute_result"
    }
   ],
   "source": [
    "lenet_5.evaluate(x_test, y_test)"
   ]
  },
  {
   "cell_type": "markdown",
   "id": "e5201ca0",
   "metadata": {},
   "source": [
    "### Overfitting does not happen"
   ]
  },
  {
   "cell_type": "markdown",
   "id": "87c43b1f",
   "metadata": {},
   "source": [
    "## Predict a picture"
   ]
  },
  {
   "cell_type": "code",
   "execution_count": 23,
   "id": "d4bfa3a3",
   "metadata": {},
   "outputs": [
    {
     "data": {
      "text/plain": [
       "<matplotlib.image.AxesImage at 0x7fa4b0ef5e10>"
      ]
     },
     "execution_count": 23,
     "metadata": {},
     "output_type": "execute_result"
    },
    {
     "data": {
      "image/png": "[encoded data removed]",
      "text/plain": [
       "<Figure size 640x480 with 1 Axes>"
      ]
     },
     "metadata": {},
     "output_type": "display_data"
    }
   ],
   "source": [
    "img = x_test[105]\n",
    "plt.imshow(img, 'gray')"
   ]
  },
  {
   "cell_type": "code",
   "execution_count": 24,
   "id": "5fbdae0f",
   "metadata": {},
   "outputs": [
    {
     "name": "stdout",
     "output_type": "stream",
     "text": [
      "1/1 [==============================] - 0s 25ms/step\n",
      "Prediction is: 9\n"
     ]
    }
   ],
   "source": [
    "def predict(img, model):\n",
    "    img_batch = np.array([img])\n",
    "    yhat = model.predict(img_batch)\n",
    "    return np.argmax(yhat)\n",
    "\n",
    "print(f\"Prediction is: {predict(img, lenet_5)}\")"
   ]
  }
 ],
 "metadata": {
  "kernelspec": {
   "display_name": "Python 3.10 (tensorflow)",
   "language": "python",
   "name": "tensorflow"
  },
  "language_info": {
   "codemirror_mode": {
    "name": "ipython",
    "version": 3
   },
   "file_extension": ".py",
   "mimetype": "text/x-python",
   "name": "python",
   "nbconvert_exporter": "python",
   "pygments_lexer": "ipython3",
   "version": "3.10.12"
  }
 },
 "nbformat": 4,
 "nbformat_minor": 5
}
