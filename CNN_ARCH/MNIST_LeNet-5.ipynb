{
 "cells": [
  {
   "cell_type": "markdown",
   "id": "795fc6d9",
   "metadata": {},
   "source": [
    "# MNIST Image Classification using LeNet-5\n",
    "\n",
    "![](images/Lenet-5.png)\n",
    "\n",
    "## Activation Function\n",
    "Tanh\n",
    "\n",
    "## Fully Connected VS. Gaussian Connected\n",
    "* Fully Connected: Activation Function exists\n",
    "* Gaussian Connected: Activation Function does not exist"
   ]
  },
  {
   "cell_type": "markdown",
   "id": "39f6daa9",
   "metadata": {},
   "source": [
    "## Import Packages"
   ]
  },
  {
   "cell_type": "code",
   "execution_count": 1,
   "id": "361daa15",
   "metadata": {},
   "outputs": [
    {
     "name": "stderr",
     "output_type": "stream",
     "text": [
      "2023-07-27 12:05:35.418657: I tensorflow/core/platform/cpu_feature_guard.cc:182] This TensorFlow binary is optimized to use available CPU instructions in performance-critical operations.\n",
      "To enable the following instructions: SSE4.1 SSE4.2, in other operations, rebuild TensorFlow with the appropriate compiler flags.\n"
     ]
    }
   ],
   "source": [
    "import numpy as np\n",
    "import matplotlib.pyplot as plt\n",
    "import pandas as pd\n",
    "import tensorflow as tf\n",
    "import tensorflow.keras.layers as tfl\n",
    "import tensorflow.keras.datasets.mnist as mnist\n",
    "import tensorflow.keras as keras\n",
    "from progressbar import progressbar"
   ]
  },
  {
   "cell_type": "markdown",
   "id": "a427666f",
   "metadata": {},
   "source": [
    "## Load data"
   ]
  },
  {
   "cell_type": "code",
   "execution_count": 3,
   "id": "048f161e",
   "metadata": {},
   "outputs": [],
   "source": [
    "(x_train, y_train), (x_test, y_test) = mnist.load_data()"
   ]
  },
  {
   "cell_type": "code",
   "execution_count": null,
   "id": "5078ba51",
   "metadata": {},
   "outputs": [],
   "source": [
    "print(f\"\")"
   ]
  }
 ],
 "metadata": {
  "kernelspec": {
   "display_name": "Python 3.10 (tensorflow)",
   "language": "python",
   "name": "tensorflow"
  },
  "language_info": {
   "codemirror_mode": {
    "name": "ipython",
    "version": 3
   },
   "file_extension": ".py",
   "mimetype": "text/x-python",
   "name": "python",
   "nbconvert_exporter": "python",
   "pygments_lexer": "ipython3",
   "version": "3.10.12"
  }
 },
 "nbformat": 4,
 "nbformat_minor": 5
}
